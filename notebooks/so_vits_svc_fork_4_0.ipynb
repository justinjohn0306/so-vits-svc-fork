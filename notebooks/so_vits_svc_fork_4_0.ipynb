{
  "cells": [
    {
      "cell_type": "markdown",
      "source": [
        "**Maintained by [justinjohn03](https://github.com/justinjohn0306)**"
      ],
      "metadata": {
        "id": "uzImPbSTm5dj"
      }
    },
    {
      "cell_type": "markdown",
      "metadata": {
        "id": "RYGUwfNjUjWU"
      },
      "source": [
        "## Before training\n",
        "\n",
        "This program saves the last 3 generations of models to Google Drive. Since 1 generation of models is >1GB, you should have at least 3GB of free space in Google Drive. If you do not have such free space, it is recommended to create another Google Account.\n",
        "\n",
        "Training requires >10GB VRAM. (T4 should be enough) Inference does not require such a lot of VRAM."
      ]
    },
    {
      "cell_type": "markdown",
      "metadata": {
        "id": "FPuJSiUFUjWc"
      },
      "source": [
        "## Installation"
      ]
    },
    {
      "cell_type": "code",
      "execution_count": null,
      "metadata": {
        "cellView": "form",
        "id": "DJWqGb5BUjWd"
      },
      "outputs": [],
      "source": [
        "#@title Check GPU\n",
        "!nvidia-smi"
      ]
    },
    {
      "cell_type": "code",
      "execution_count": null,
      "metadata": {
        "cellView": "form",
        "id": "SpqoNrBCUjWg"
      },
      "outputs": [],
      "source": [
        "#@title Mount Google Drive\n",
        "from google.colab import drive\n",
        "drive.mount('/content/drive')"
      ]
    },
    {
      "cell_type": "code",
      "execution_count": null,
      "metadata": {
        "cellView": "form",
        "id": "v2EBFfF6UjWg"
      },
      "outputs": [],
      "source": [
        "#@title Install dependencies\n",
        "#@markdown pip may fail to resolve dependencies and raise ERROR, but it can be ignored.\n",
        "!python -m pip install -U pip wheel\n",
        "%pip install -U ipython \n",
        "\n",
        "#@markdown Branch (for development)\n",
        "BRANCH = \"none\" #@param {\"type\": \"string\"}\n",
        "if BRANCH == \"none\":\n",
        "    %pip install -U so-vits-svc-fork\n",
        "else:\n",
        "    %pip install -U git+https://github.com/34j/so-vits-svc-fork.git@{BRANCH}"
      ]
    },
    {
      "cell_type": "markdown",
      "metadata": {
        "id": "cIB0jbc-UjWh"
      },
      "source": [
        "## Training"
      ]
    },
    {
      "cell_type": "code",
      "execution_count": null,
      "metadata": {
        "id": "xvBt39C1UjWh",
        "cellView": "form"
      },
      "outputs": [],
      "source": [
        "#@title Make dataset directory\n",
        "%cd /content\n",
        "\n",
        "!mkdir -p \"dataset_raw\""
      ]
    },
    {
      "cell_type": "code",
      "source": [
        "#@title Create the dataset directory on yor gdrive\n",
        "#@markdown Upload you dataset zip file inside the ``so-vits-svc-fork/dataset`` folder on your gdrive \n",
        "\n",
        "#@markdown Example:\n",
        "\n",
        "#@markdown ``test.zip`` being your singer/speaker: 👇 \n",
        "\n",
        "#@markdown ``MyDrive/so-vits-svc-fork/dataset/test.zip``\n",
        "\n",
        "import os\n",
        "\n",
        "create_dir = True #@param {type: \"boolean\"}\n",
        "\n",
        "if create_dir:\n",
        "      if not os.path.exists('/content/drive/MyDrive/so-vits-svc-fork/'):\n",
        "          !mkdir /content/drive/MyDrive/so-vits-svc-fork/\n",
        "          \n",
        "          !mkdir /content/drive/MyDrive/so-vits-svc-fork/dataset/\n",
        "\n",
        "print('Done!')"
      ],
      "metadata": {
        "cellView": "form",
        "id": "geaN_AIAkD4h"
      },
      "execution_count": null,
      "outputs": []
    },
    {
      "cell_type": "code",
      "source": [
        "#@title Copy your dataset\n",
        "#@markdown **We assume that you've uploaded your dataset zip in your Google Drive's `so-vits-svc-fork/dataset/` directory.**\n",
        "DATASET_NAME = \"test.zip\" #@param {type: \"string\"}\n",
        "!unzip /content/drive/MyDrive/so-vits-svc-fork/dataset/{DATASET_NAME} -d /content/dataset_raw/"
      ],
      "metadata": {
        "cellView": "form",
        "id": "8dPebB-vWxhq"
      },
      "execution_count": null,
      "outputs": []
    },
    {
      "cell_type": "code",
      "execution_count": null,
      "metadata": {
        "cellView": "form",
        "id": "VI_ohbCoUjWj"
      },
      "outputs": [],
      "source": [
        "#@title Download dataset (Tsukuyomi-chan JVS)\n",
        "#@markdown You can download this dataset if you don't have your own dataset.\n",
        "#@markdown Make sure you agree to the license when using this dataset.\n",
        "#@markdown https://tyc.rei-yumesaki.net/material/corpus/#toc6\n",
        "# !wget https://tyc.rei-yumesaki.net/files/sozai-tyc-corpus1.zip\n",
        "# !unzip sozai-tyc-corpus1.zip\n",
        "# !mv \"/content/つくよみちゃんコーパス Vol.1 声優統計コーパス（JVSコーパス準拠）/おまけ：WAV（+12dB増幅＆高音域削減）/WAV（+12dB増幅＆高音域削減）\" \"dataset_raw/tsukuyomi\""
      ]
    },
    {
      "cell_type": "markdown",
      "source": [
        "# **Preprocessing**"
      ],
      "metadata": {
        "id": "uITyvR13nlk2"
      }
    },
    {
      "cell_type": "code",
      "execution_count": null,
      "metadata": {
        "id": "eR_Xkl_wUjWk",
        "cellView": "form"
      },
      "outputs": [],
      "source": [
        "#@markdown ## Resample audio\n",
        "!svc pre-resample"
      ]
    },
    {
      "cell_type": "code",
      "source": [
        "#@markdown ## Generate config and filelists\n",
        "!svc pre-config -t so-vits-svc-4.0v1"
      ],
      "metadata": {
        "cellView": "form",
        "id": "enzTA_d0nfg7"
      },
      "execution_count": null,
      "outputs": []
    },
    {
      "cell_type": "code",
      "execution_count": null,
      "metadata": {
        "id": "Kbu2aMNiUjWk",
        "cellView": "form"
      },
      "outputs": [],
      "source": [
        "#@markdown ## Copy configs file to your gdrive\n",
        "\n",
        "!cp configs/44k/config.json drive/MyDrive/so-vits-svc-fork"
      ]
    },
    {
      "cell_type": "code",
      "execution_count": null,
      "metadata": {
        "cellView": "form",
        "id": "ekwSB_mHUjWk"
      },
      "outputs": [],
      "source": [
        "#@markdown ## Extract F0\n",
        "\n",
        "F0_METHOD = \"crepe\" #@param [\"crepe\", \"crepe-tiny\", \"parselmouth\", \"dio\", \"harvest\"]\n",
        "!svc pre-hubert -fm {F0_METHOD}"
      ]
    },
    {
      "cell_type": "markdown",
      "source": [
        "# **Training**"
      ],
      "metadata": {
        "id": "RRXt-Ai1nuVF"
      }
    },
    {
      "cell_type": "code",
      "execution_count": null,
      "metadata": {
        "id": "hMHUCvYHUjWl",
        "cellView": "form"
      },
      "outputs": [],
      "source": [
        "#@markdown ## Start training\n",
        "%load_ext tensorboard\n",
        "%tensorboard --logdir drive/MyDrive/so-vits-svc-fork/logs/44k\n",
        "!svc train --model-path drive/MyDrive/so-vits-svc-fork/logs/44k"
      ]
    },
    {
      "cell_type": "markdown",
      "metadata": {
        "id": "kkvXkwd2UjWl"
      },
      "source": [
        "## Training Cluster model"
      ]
    },
    {
      "cell_type": "code",
      "execution_count": null,
      "metadata": {
        "id": "ui3IIA_jUjWm",
        "cellView": "form"
      },
      "outputs": [],
      "source": [
        "#@markdown ## Start training cluster model\n",
        "\n",
        "!svc train-cluster --output-path drive/MyDrive/so-vits-svc-fork/logs/44k/kmeans.pt"
      ]
    },
    {
      "cell_type": "markdown",
      "metadata": {
        "id": "jEK6I-NMUjWm"
      },
      "source": [
        "# **Inference**"
      ]
    },
    {
      "cell_type": "code",
      "execution_count": null,
      "metadata": {
        "id": "_LiaPUqvUjWm",
        "cellView": "form"
      },
      "outputs": [],
      "source": [
        "#@markdown ## Get the author's voice as a source\n",
        "import random\n",
        "NAME = str(random.randint(1, 100))\n",
        "!wget -N \"https://github.com/34j/34j/raw/main/jvs-parallel100/{NAME}.wav\"\n",
        "from IPython.display import Audio, display\n",
        "display(Audio(f\"{NAME}.wav\"))"
      ]
    },
    {
      "cell_type": "code",
      "execution_count": null,
      "metadata": {
        "id": "HvzKH4HzUjWn",
        "cellView": "form"
      },
      "outputs": [],
      "source": [
        "#@markdown ## Use trained model\n",
        "!svc infer {NAME}.wav -m drive/MyDrive/so-vits-svc-fork/logs/44k/ -c drive/MyDrive/so-vits-svc-fork/logs/44k/config.json\n",
        "display(Audio(f\"{NAME}.out.wav\", autoplay=True))"
      ]
    },
    {
      "cell_type": "code",
      "execution_count": null,
      "metadata": {
        "id": "tisNAQg-UjWn",
        "cellView": "form"
      },
      "outputs": [],
      "source": [
        "#@markdown ## Use trained model (with cluster)\n",
        "!svc infer {NAME}.wav -s speaker -r 0.1 -m drive/MyDrive/so-vits-svc-fork/logs/44k/ -c drive/MyDrive/so-vits-svc-fork/logs/44k/config.json -k drive/MyDrive/so-vits-svc-fork/logs/44k/kmeans.pt\n",
        "display(Audio(f\"{NAME}.out.wav\", autoplay=True))"
      ]
    },
    {
      "cell_type": "markdown",
      "metadata": {
        "id": "NFJ3vyy7UjWo"
      },
      "source": [
        "### Pretrained models"
      ]
    },
    {
      "cell_type": "code",
      "execution_count": null,
      "metadata": {
        "id": "SzA5Pq4wUjWo",
        "cellView": "form"
      },
      "outputs": [],
      "source": [
        "#@markdown ## https://huggingface.co/TachibanaKimika/so-vits-svc-4.0-models/tree/main\n",
        "!wget -N \"https://huggingface.co/TachibanaKimika/so-vits-svc-4.0-models/resolve/main/riri/G_riri_220.pth\"\n",
        "!wget -N \"https://huggingface.co/TachibanaKimika/so-vits-svc-4.0-models/resolve/main/riri/config.json\""
      ]
    },
    {
      "cell_type": "code",
      "execution_count": null,
      "metadata": {
        "id": "cSJCdgjpUjWo"
      },
      "outputs": [],
      "source": [
        "!svc infer {NAME}.wav -c config.json -m G_riri_220.pth\n",
        "display(Audio(f\"{NAME}.out.wav\", autoplay=True))"
      ]
    },
    {
      "cell_type": "code",
      "execution_count": null,
      "metadata": {
        "id": "qevtzwM3UjWo",
        "cellView": "form"
      },
      "outputs": [],
      "source": [
        "#@markdown ## https://huggingface.co/therealvul/so-vits-svc-4.0/tree/main\n",
        "!wget -N \"https://huggingface.co/therealvul/so-vits-svc-4.0/resolve/main/Pinkie%20(speaking%20sep)/G_166400.pth\"\n",
        "!wget -N \"https://huggingface.co/therealvul/so-vits-svc-4.0/resolve/main/Pinkie%20(speaking%20sep)/config.json\""
      ]
    },
    {
      "cell_type": "code",
      "execution_count": null,
      "metadata": {
        "id": "Qc2cLkE_UjWo"
      },
      "outputs": [],
      "source": [
        "!svc infer {NAME}.wav --speaker \"Pinkie {neutral}\" -c config.json -m G_166400.pth\n",
        "display(Audio(f\"{NAME}.out.wav\", autoplay=True))"
      ]
    }
  ],
  "metadata": {
    "accelerator": "GPU",
    "colab": {
      "provenance": []
    },
    "gpuClass": "standard",
    "kernelspec": {
      "display_name": "Python 3",
      "name": "python3"
    },
    "language_info": {
      "name": "python"
    }
  },
  "nbformat": 4,
  "nbformat_minor": 0
}